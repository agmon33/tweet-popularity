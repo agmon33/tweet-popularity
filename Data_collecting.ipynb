{
 "cells": [
  {
   "cell_type": "markdown",
   "metadata": {},
   "source": [
    "\n",
    "\n",
    "\n",
    "\n",
    "\n"
   ]
  },
  {
   "cell_type": "markdown",
   "metadata": {},
   "source": [
    "# Data gathering"
   ]
  },
  {
   "cell_type": "code",
   "execution_count": 4,
   "metadata": {
    "scrolled": true
   },
   "outputs": [
    {
     "name": "stdout",
     "output_type": "stream",
     "text": [
      "Requirement already satisfied: twython in c:\\users\\user\\anaconda3\\lib\\site-packages (3.8.2)\n",
      "Requirement already satisfied: requests-oauthlib>=0.4.0 in c:\\users\\user\\anaconda3\\lib\\site-packages (from twython) (1.3.0)\n",
      "Requirement already satisfied: requests>=2.1.0 in c:\\users\\user\\anaconda3\\lib\\site-packages (from twython) (2.24.0)\n",
      "Requirement already satisfied: oauthlib>=3.0.0 in c:\\users\\user\\anaconda3\\lib\\site-packages (from requests-oauthlib>=0.4.0->twython) (3.1.0)\n",
      "Requirement already satisfied: idna<3,>=2.5 in c:\\users\\user\\anaconda3\\lib\\site-packages (from requests>=2.1.0->twython) (2.10)\n",
      "Requirement already satisfied: urllib3!=1.25.0,!=1.25.1,<1.26,>=1.21.1 in c:\\users\\user\\anaconda3\\lib\\site-packages (from requests>=2.1.0->twython) (1.25.9)\n",
      "Requirement already satisfied: certifi>=2017.4.17 in c:\\users\\user\\anaconda3\\lib\\site-packages (from requests>=2.1.0->twython) (2020.6.20)\n",
      "Requirement already satisfied: chardet<4,>=3.0.2 in c:\\users\\user\\anaconda3\\lib\\site-packages (from requests>=2.1.0->twython) (3.0.4)\n"
     ]
    }
   ],
   "source": [
    "!pip install twython"
   ]
  },
  {
   "cell_type": "code",
   "execution_count": 11,
   "metadata": {},
   "outputs": [],
   "source": [
    "import pickle as pk\n",
    "\n",
    "#import numpy as np\n",
    "#import scipy.sparse\n",
    "#import random as rnd\n",
    "#import sklearn.linear_model\n",
    "#import sklearn.datasets\n",
    "#import sklearn.svm\n",
    "#import sklearn.metrics\n",
    "#import sklearn.decomposition\n",
    "#import sklearn.feature_extraction.text\n",
    "#import sklearn.utils.sparsefuncs\n",
    "from twython import Twython\n",
    "\n",
    "#from sklearn.preprocessing import KBinsDiscretizer"
   ]
  },
  {
   "cell_type": "code",
   "execution_count": 6,
   "metadata": {},
   "outputs": [],
   "source": [
    "#Loggin to the account in twitter\n",
    "def get_auth_obj():\n",
    "    CONSUMER_KEY=\"******************\"\n",
    "    CONSUMER_SECRET=\"*******************************************\"\n",
    "    twitter = Twython(CONSUMER_KEY, CONSUMER_SECRET)\n",
    "    return twitter"
   ]
  },
  {
   "cell_type": "code",
   "execution_count": 13,
   "metadata": {},
   "outputs": [],
   "source": [
    "#Gathering the tweets of the account\n",
    "def get_all_twitts(to, name, r):\n",
    "    ret = []\n",
    "    response = to.get_user_timeline(screen_name=name, count=200)\n",
    "    ret+=response\n",
    "    for i in range(r):\n",
    "        response = to.get_user_timeline(screen_name=name, count=200, max_id=response[-1]['id'])\n",
    "        ret+=response\n",
    "    return ret"
   ]
  },
  {
   "cell_type": "code",
   "execution_count": 14,
   "metadata": {},
   "outputs": [],
   "source": [
    "def save_data(filename, to, name, r):\n",
    "    data = get_all_twitts(to, name, r)\n",
    "    with open(filename, 'wb') as fh:\n",
    "        pk.dump(data, fh)"
   ]
  },
  {
   "cell_type": "code",
   "execution_count": 15,
   "metadata": {},
   "outputs": [],
   "source": [
    "#Scraping data\n",
    "save_data(\"elonmuskdata.bin\", get_auth_obj(), \"elonmusk\", 49)"
   ]
  },
  {
   "cell_type": "code",
   "execution_count": null,
   "metadata": {},
   "outputs": [],
   "source": []
  }
 ],
 "metadata": {
  "kernelspec": {
   "display_name": "Python 3",
   "language": "python",
   "name": "python3"
  },
  "language_info": {
   "codemirror_mode": {
    "name": "ipython",
    "version": 3
   },
   "file_extension": ".py",
   "mimetype": "text/x-python",
   "name": "python",
   "nbconvert_exporter": "python",
   "pygments_lexer": "ipython3",
   "version": "3.8.3"
  }
 },
 "nbformat": 4,
 "nbformat_minor": 4
}
