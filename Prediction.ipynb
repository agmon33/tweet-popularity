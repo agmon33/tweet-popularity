{
 "cells": [
  {
   "cell_type": "markdown",
   "metadata": {},
   "source": [
    "# Text analyzing\n",
    "# Is it possible to predict how popular the tweet will be?"
   ]
  },
  {
   "cell_type": "code",
   "execution_count": 3,
   "metadata": {},
   "outputs": [],
   "source": [
    "import pickle as pk\n",
    "\n",
    "import sys\n",
    "import numpy as np\n",
    "import scipy.sparse\n",
    "import random as rnd\n",
    "import sklearn.linear_model\n",
    "import sklearn.datasets\n",
    "import sklearn.svm\n",
    "import sklearn.metrics\n",
    "import sklearn.decomposition\n",
    "import sklearn.feature_extraction.text\n",
    "import sklearn.utils.sparsefuncs\n",
    "from twython import Twython\n",
    "\n",
    "from sklearn.preprocessing import KBinsDiscretizer"
   ]
  },
  {
   "cell_type": "code",
   "execution_count": 22,
   "metadata": {},
   "outputs": [],
   "source": [
    "def run_prediction(filename):\n",
    "    with open(filename, 'rb') as fh:\n",
    "        data = pk.load(fh)\n",
    "\n",
    "    # test data extraction\n",
    "    data_text = [e['text'] for e in data]\n",
    "    vectorizer = sklearn.feature_extraction.text.CountVectorizer\\\n",
    "        (stop_words='english', ngram_range=(1, 1), dtype='double')\n",
    "    data_text = vectorizer.fit_transform(data_text)\n",
    "    pca = sklearn.decomposition.TruncatedSVD(n_components=50)\n",
    "    data_text = pca.fit_transform(data_text)\n",
    "\n",
    "    # target extraction\n",
    "    popularity_rank = [e['favorite_count'] * e['retweet_count'] for e in data]\n",
    "    enc = KBinsDiscretizer(n_bins=10, encode='ordinal')\n",
    "    popularity_rank = np.array(popularity_rank).reshape(-1, 1)\n",
    "    target = enc.fit_transform(popularity_rank)\n",
    "\n",
    "    # calculate linear regression\n",
    "    n_samples = len(data_text)\n",
    "    regression = sklearn.linear_model.LinearRegression()\n",
    "    regression.fit(data_text[:n_samples // 2], target[:n_samples // 2])\n",
    "\n",
    "    # predict\n",
    "    expected = target[n_samples // 2:]\n",
    "    predicted = regression.predict(data_text[n_samples // 2:])                                       \n",
    "\n",
    "    # permutation tests\n",
    "    r = [rnd.randrange(0, 10) for _ in range(n_samples // 2)]\n",
    "    t1 = sum([abs(k-l) for k, l in zip(expected, predicted)]) / len(r)\n",
    "    t2 = sum([abs(k-l) for k, l in zip(expected, r)]) / len(r)\n",
    "    return t2, t1"
   ]
  },
  {
   "cell_type": "code",
   "execution_count": 34,
   "metadata": {},
   "outputs": [
    {
     "name": "stdout",
     "output_type": "stream",
     "text": [
      "Random score: [3.30201342] | Our score: [2.27193441]\n"
     ]
    }
   ],
   "source": [
    "random_score, machine_score = run_prediction(\"elonmuskdata.bin\")\n",
    "print('Random score: {0} | Our score: {1}'.format(random_score, machine_score))"
   ]
  },
  {
   "cell_type": "code",
   "execution_count": null,
   "metadata": {},
   "outputs": [],
   "source": []
  },
  {
   "cell_type": "code",
   "execution_count": null,
   "metadata": {},
   "outputs": [],
   "source": []
  }
 ],
 "metadata": {
  "kernelspec": {
   "display_name": "Python 3",
   "language": "python",
   "name": "python3"
  },
  "language_info": {
   "codemirror_mode": {
    "name": "ipython",
    "version": 3
   },
   "file_extension": ".py",
   "mimetype": "text/x-python",
   "name": "python",
   "nbconvert_exporter": "python",
   "pygments_lexer": "ipython3",
   "version": "3.8.3"
  }
 },
 "nbformat": 4,
 "nbformat_minor": 4
}
